{
  "nbformat": 4,
  "nbformat_minor": 0,
  "metadata": {
    "colab": {
      "provenance": [],
      "include_colab_link": true
    },
    "kernelspec": {
      "name": "python3",
      "display_name": "Python 3"
    },
    "language_info": {
      "name": "python"
    }
  },
  "cells": [
    {
      "cell_type": "markdown",
      "metadata": {
        "id": "view-in-github",
        "colab_type": "text"
      },
      "source": [
        "<a href=\"https://colab.research.google.com/github/anamsk147/ColabNotebook/blob/main/DWP2.ipynb\" target=\"_parent\"><img src=\"https://colab.research.google.com/assets/colab-badge.svg\" alt=\"Open In Colab\"/></a>"
      ]
    },
    {
      "cell_type": "markdown",
      "source": [
        "**DATA WRANGLING WITH PYTHON: PRACTICAL 2 - 21/12/2024**"
      ],
      "metadata": {
        "id": "9J2U_2hP3NbE"
      }
    },
    {
      "cell_type": "markdown",
      "source": [
        "Median is used when we have outliers in the data since it gets unaffected by it. Mean is used when we have do not have outliers in the data since it gets affected by it."
      ],
      "metadata": {
        "id": "zWM6rgs03dca"
      }
    },
    {
      "cell_type": "code",
      "source": [
        "# 1. To delete missing values\n",
        "import pandas as pd\n",
        "\n",
        "# Sample DataFrame with missing values\n",
        "data = {'Age': [25, None, 30, 22, None],\n",
        "        'Gender': ['M','F','M','F',None]}\n",
        "\n",
        "df = pd.DataFrame(data)\n",
        "print(df)\n",
        "print(df.isna().sum())\n",
        "\n",
        "# Drop rows with any missing values\n",
        "df_complete_case = df.dropna()\n",
        "print(df_complete_case)"
      ],
      "metadata": {
        "colab": {
          "base_uri": "https://localhost:8080/"
        },
        "id": "ijUbtzPr3hLp",
        "outputId": "7753bbd4-da31-4cac-df0a-ad4f7703746e"
      },
      "execution_count": null,
      "outputs": [
        {
          "output_type": "stream",
          "name": "stdout",
          "text": [
            "    Age Gender\n",
            "0  25.0      M\n",
            "1   NaN      F\n",
            "2  30.0      M\n",
            "3  22.0      F\n",
            "4   NaN   None\n",
            "Age       2\n",
            "Gender    1\n",
            "dtype: int64\n",
            "    Age Gender\n",
            "0  25.0      M\n",
            "2  30.0      M\n",
            "3  22.0      F\n"
          ]
        }
      ]
    },
    {
      "cell_type": "code",
      "source": [
        "# 2. (a) Handling Missing Numerical Data (Mean or Median Imputation)\n",
        "\n",
        "# Mean Imputation\n",
        "df['Age_mean_imputed'] = df['Age'].fillna(df['Age'].mean()) #type(df['age'])\n",
        "print(df)\n",
        "\n",
        "# Median Imputation\n",
        "df['Age_median_imputed'] = df['Age'].fillna(df['Age'].median())\n",
        "print(df)"
      ],
      "metadata": {
        "colab": {
          "base_uri": "https://localhost:8080/"
        },
        "id": "iBfrCwly5nHu",
        "outputId": "5da74590-34e2-4469-f582-a27ca6940b16"
      },
      "execution_count": null,
      "outputs": [
        {
          "output_type": "stream",
          "name": "stdout",
          "text": [
            "    Age Gender  Age_mean_imputed\n",
            "0  25.0      M         25.000000\n",
            "1   NaN      F         25.666667\n",
            "2  30.0      M         30.000000\n",
            "3  22.0      F         22.000000\n",
            "4   NaN   None         25.666667\n",
            "    Age Gender  Age_mean_imputed  Age_median_imputed\n",
            "0  25.0      M         25.000000                25.0\n",
            "1   NaN      F         25.666667                25.0\n",
            "2  30.0      M         30.000000                30.0\n",
            "3  22.0      F         22.000000                22.0\n",
            "4   NaN   None         25.666667                25.0\n"
          ]
        }
      ]
    },
    {
      "cell_type": "code",
      "source": [
        "# 2. (b) End of Distribution Imputation\n",
        "# Missing values can be replaced with a value at the end of the distribution, such as the minimum or maximum value.\n",
        "\n",
        "# Replace with minimum value\n",
        "df['Age_min_imputed'] = df['Age'].fillna(df['Age'].min())\n",
        "print(df)\n",
        "\n",
        "# Replace with maximum value\n",
        "df['Age_max_imputed'] = df['Age'].fillna(df['Age'].max())\n",
        "print(df)"
      ],
      "metadata": {
        "colab": {
          "base_uri": "https://localhost:8080/"
        },
        "id": "2ClRADiq531T",
        "outputId": "431aea73-fb1d-4218-a71f-99d63cfd1d50"
      },
      "execution_count": null,
      "outputs": [
        {
          "output_type": "stream",
          "name": "stdout",
          "text": [
            "    Age Gender  Age_mean_imputed  Age_median_imputed  Age_min_imputed\n",
            "0  25.0      M         25.000000                25.0             25.0\n",
            "1   NaN      F         25.666667                25.0             22.0\n",
            "2  30.0      M         30.000000                30.0             30.0\n",
            "3  22.0      F         22.000000                22.0             22.0\n",
            "4   NaN   None         25.666667                25.0             22.0\n",
            "    Age Gender  Age_mean_imputed  Age_median_imputed  Age_min_imputed  \\\n",
            "0  25.0      M         25.000000                25.0             25.0   \n",
            "1   NaN      F         25.666667                25.0             22.0   \n",
            "2  30.0      M         30.000000                30.0             30.0   \n",
            "3  22.0      F         22.000000                22.0             22.0   \n",
            "4   NaN   None         25.666667                25.0             22.0   \n",
            "\n",
            "   Age_max_imputed  \n",
            "0             25.0  \n",
            "1             30.0  \n",
            "2             30.0  \n",
            "3             22.0  \n",
            "4             30.0  \n"
          ]
        }
      ]
    },
    {
      "cell_type": "code",
      "source": [
        "# 2. (c) Arbitary Value Imputation\n",
        "# You can replace missing values with a custom value, like 0 or a placeholder such as -1.\n",
        "\n",
        "df['Age_arbitary_imputed'] = df['Age'].fillna(-1)\n",
        "print(df)"
      ],
      "metadata": {
        "colab": {
          "base_uri": "https://localhost:8080/"
        },
        "id": "wgIb6lL18D9-",
        "outputId": "bf006e07-b183-4d2c-bc82-1f9d90990ab0"
      },
      "execution_count": null,
      "outputs": [
        {
          "output_type": "stream",
          "name": "stdout",
          "text": [
            "    Age Gender  Age_mean_imputed  Age_median_imputed  Age_min_imputed  \\\n",
            "0  25.0      M         25.000000                25.0             25.0   \n",
            "1   NaN      F         25.666667                25.0             22.0   \n",
            "2  30.0      M         30.000000                30.0             30.0   \n",
            "3  22.0      F         22.000000                22.0             22.0   \n",
            "4   NaN   None         25.666667                25.0             22.0   \n",
            "\n",
            "   Age_max_imputed  Age_arbitary_imputed  \n",
            "0             25.0                  25.0  \n",
            "1             30.0                  -1.0  \n",
            "2             30.0                  30.0  \n",
            "3             22.0                  22.0  \n",
            "4             30.0                  -1.0  \n"
          ]
        }
      ]
    },
    {
      "cell_type": "code",
      "source": [
        "# Frequent category imputation\n",
        "# Replace missing values in categorical coluns with the most frequent (mode) category\n",
        "\n",
        "df['Gender_frequent_imputed'] = df['Gender'].fillna(df['Gender'].mode()[0])\n",
        "print(df)"
      ],
      "metadata": {
        "colab": {
          "base_uri": "https://localhost:8080/"
        },
        "id": "3gxSRqo49i0A",
        "outputId": "65ad44a5-48c1-4883-f0a3-40dc5b3604a7"
      },
      "execution_count": null,
      "outputs": [
        {
          "output_type": "stream",
          "name": "stdout",
          "text": [
            "    Age Gender  Age_mean_imputed  Age_median_imputed  Age_min_imputed  \\\n",
            "0  25.0      M         25.000000                25.0             25.0   \n",
            "1   NaN      F         25.666667                25.0             22.0   \n",
            "2  30.0      M         30.000000                30.0             30.0   \n",
            "3  22.0      F         22.000000                22.0             22.0   \n",
            "4   NaN   None         25.666667                25.0             22.0   \n",
            "\n",
            "   Age_max_imputed  Age_arbitary_imputed Gender_frequent_imputed  \n",
            "0             25.0                  25.0                       M  \n",
            "1             30.0                  -1.0                       F  \n",
            "2             30.0                  30.0                       M  \n",
            "3             22.0                  22.0                       F  \n",
            "4             30.0                  -1.0                       F  \n"
          ]
        }
      ]
    }
  ]
}